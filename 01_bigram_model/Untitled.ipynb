{
 "cells": [
  {
   "cell_type": "code",
   "execution_count": 195,
   "id": "f81f5ebe-5aab-4622-97d9-1f40c94a0da5",
   "metadata": {},
   "outputs": [],
   "source": [
    "words = open(\"Names.txt\", \"r\").read().lower().replace(\" \", \"\").replace(\"-\", \"\").replace(\".\", \"\").splitlines()"
   ]
  },
  {
   "cell_type": "code",
   "execution_count": 196,
   "id": "892b4f18-e592-44a6-a9b5-cc8fedb6c4dd",
   "metadata": {},
   "outputs": [
    {
     "data": {
      "text/plain": [
       "['aaban',\n",
       " 'aabharan',\n",
       " 'aabhas',\n",
       " 'aabhat',\n",
       " 'aabheer',\n",
       " 'aabheer',\n",
       " 'abheer',\n",
       " 'aabher',\n",
       " 'aabi',\n",
       " 'aabilesh',\n",
       " 'aabir',\n",
       " 'aabishan',\n",
       " 'aabishayan',\n",
       " 'aacharya',\n",
       " 'aachman',\n",
       " 'aachuthan',\n",
       " 'aadalalagan',\n",
       " 'aadalarasan',\n",
       " 'aadalazhagan',\n",
       " 'aadamya']"
      ]
     },
     "execution_count": 196,
     "metadata": {},
     "output_type": "execute_result"
    }
   ],
   "source": [
    "words[:20]"
   ]
  },
  {
   "cell_type": "code",
   "execution_count": 197,
   "id": "c034df74-97fc-4614-a2d4-ede780a03603",
   "metadata": {},
   "outputs": [
    {
     "data": {
      "text/plain": [
       "55691"
      ]
     },
     "execution_count": 197,
     "metadata": {},
     "output_type": "execute_result"
    }
   ],
   "source": [
    "len(words)"
   ]
  },
  {
   "cell_type": "code",
   "execution_count": 198,
   "id": "f7196b20-e67e-4bca-93f3-ca97698cbf8c",
   "metadata": {},
   "outputs": [
    {
     "data": {
      "text/plain": [
       "2"
      ]
     },
     "execution_count": 198,
     "metadata": {},
     "output_type": "execute_result"
    }
   ],
   "source": [
    "min(len(w) for w in words)"
   ]
  },
  {
   "cell_type": "code",
   "execution_count": 199,
   "id": "2e621fa9-d512-4034-b94b-0bceb489563c",
   "metadata": {},
   "outputs": [
    {
     "data": {
      "text/plain": [
       "24"
      ]
     },
     "execution_count": 199,
     "metadata": {},
     "output_type": "execute_result"
    }
   ],
   "source": [
    "max(len(w) for w in words)"
   ]
  },
  {
   "cell_type": "code",
   "execution_count": 200,
   "id": "2d5cc403-af01-4a99-aa18-0797d67f5992",
   "metadata": {},
   "outputs": [],
   "source": [
    "import torch"
   ]
  },
  {
   "cell_type": "code",
   "execution_count": 239,
   "id": "bd2b0917-db7e-4847-84e4-eee70fd5a0c2",
   "metadata": {},
   "outputs": [],
   "source": [
    "N = torch.zeros((27, 27), dtype=torch.int32)"
   ]
  },
  {
   "cell_type": "code",
   "execution_count": 240,
   "id": "10295002-574d-4177-bb38-492141bc7a91",
   "metadata": {},
   "outputs": [],
   "source": [
    "chars = sorted(list(set(\"\".join(words))))\n",
    "stoi = {s: i+1 for i, s in enumerate(chars)}\n",
    "stoi[\".\"] = 0\n",
    "itos = {i:s for s, i in stoi.items()}"
   ]
  },
  {
   "cell_type": "code",
   "execution_count": 241,
   "id": "227fd587-f8e7-45fc-98db-ae6ee692b8a9",
   "metadata": {},
   "outputs": [],
   "source": [
    "for w in words:\n",
    "    chs = [\".\"] + list(w) + [\".\"]\n",
    "    for ch1, ch2 in zip(chs, chs[1:]):\n",
    "        ix1 = stoi[ch1]\n",
    "        ix2 = stoi[ch2]\n",
    "        N[ix1, ix2] += 1"
   ]
  },
  {
   "cell_type": "code",
   "execution_count": 242,
   "id": "6205ea27-f7a0-40af-97d0-6330a478334c",
   "metadata": {},
   "outputs": [
    {
     "data": {
      "text/plain": [
       "tensor([   0, 6774, 1841, 1081, 3138,  708,  142, 1532, 1705,  918, 2562, 4321,\n",
       "        1377, 3959, 3607,  213, 3356,   16, 3443, 5320, 2941,  660, 4191,   97,\n",
       "           1, 1661,  127], dtype=torch.int32)"
      ]
     },
     "execution_count": 242,
     "metadata": {},
     "output_type": "execute_result"
    }
   ],
   "source": [
    "N[0]"
   ]
  },
  {
   "cell_type": "code",
   "execution_count": 243,
   "id": "f2058b8e-56d2-4441-9819-0912fa5f0fb0",
   "metadata": {},
   "outputs": [
    {
     "data": {
      "text/plain": [
       "torch.Size([27, 27])"
      ]
     },
     "execution_count": 243,
     "metadata": {},
     "output_type": "execute_result"
    }
   ],
   "source": [
    "P = N.float()\n",
    "P = P / P.sum(1, keepdim=True)\n",
    "P.shape"
   ]
  },
  {
   "cell_type": "code",
   "execution_count": 244,
   "id": "83e9d37c-a6cd-4885-b1fd-ef60d00073fa",
   "metadata": {},
   "outputs": [
    {
     "name": "stdout",
     "output_type": "stream",
     "text": [
      "mankeesathathurudekavaya.\n",
      "lan.\n",
      "bhirdrthaprthar.\n",
      "lleenithmooranirayapratitha.\n",
      "ajooshin.\n",
      "shrsha.\n",
      "arizheer.\n",
      "ajeyakathenin.\n",
      "rarachumithakru.\n",
      "va.\n"
     ]
    }
   ],
   "source": [
    "for i in range(10):\n",
    "    ix = 0\n",
    "    out = []\n",
    "    while True:\n",
    "        p = P[ix]\n",
    "        ix = torch.multinomial(p, num_samples=1, replacement=True).item()\n",
    "        out.append(itos[ix])\n",
    "        if ix == 0:\n",
    "            break\n",
    "    print(\"\".join(out))"
   ]
  },
  {
   "cell_type": "code",
   "execution_count": null,
   "id": "e9dda848-48b4-4015-b22d-7918a96432f9",
   "metadata": {},
   "outputs": [],
   "source": []
  }
 ],
 "metadata": {
  "kernelspec": {
   "display_name": "Python 3 (ipykernel)",
   "language": "python",
   "name": "python3"
  },
  "language_info": {
   "codemirror_mode": {
    "name": "ipython",
    "version": 3
   },
   "file_extension": ".py",
   "mimetype": "text/x-python",
   "name": "python",
   "nbconvert_exporter": "python",
   "pygments_lexer": "ipython3",
   "version": "3.9.16"
  }
 },
 "nbformat": 4,
 "nbformat_minor": 5
}
