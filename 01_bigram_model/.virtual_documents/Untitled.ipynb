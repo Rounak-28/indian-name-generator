words = open("Names.txt", "r").read().lower().replace(" ", "").replace("-", "").replace(".", "").splitlines()


words[:20]


len(words)


min(len(w) for w in words)


max(len(w) for w in words)


import torch


N = torch.zeros((27, 27), dtype=torch.int32)


chars = sorted(list(set("".join(words))))
stoi = {s: i+1 for i, s in enumerate(chars)}
stoi["."] = 0
itos = {i:s for s, i in stoi.items()}


for w in words:
    chs = ["."] + list(w) + ["."]
    for ch1, ch2 in zip(chs, chs[1:]):
        ix1 = stoi[ch1]
        ix2 = stoi[ch2]
        N[ix1, ix2] += 1


N[0]


P = N.float()
P = P / P.sum(1, keepdim=True)
P.shape


for i in range(10):
    ix = 0
    out = []
    while True:
        p = P[ix]
        ix = torch.multinomial(p, num_samples=1, replacement=True).item()
        out.append(itos[ix])
        if ix == 0:
            break
    print("".join(out))



