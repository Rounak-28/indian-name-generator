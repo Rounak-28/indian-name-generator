{
 "cells": [
  {
   "cell_type": "code",
   "execution_count": 43,
   "id": "f81f5ebe-5aab-4622-97d9-1f40c94a0da5",
   "metadata": {},
   "outputs": [],
   "source": [
    "words = open(\"Names.txt\", \"r\").read().lower().replace(\" \", \"\").splitlines()"
   ]
  },
  {
   "cell_type": "code",
   "execution_count": 44,
   "id": "892b4f18-e592-44a6-a9b5-cc8fedb6c4dd",
   "metadata": {},
   "outputs": [
    {
     "data": {
      "text/plain": [
       "['aaban',\n",
       " 'aabharan',\n",
       " 'aabhas',\n",
       " 'aabhat',\n",
       " 'aabheer',\n",
       " 'aabheer',\n",
       " 'abheer',\n",
       " 'aabher',\n",
       " 'aabi',\n",
       " 'aabilesh',\n",
       " 'aabir',\n",
       " 'aabishan',\n",
       " 'aabishayan',\n",
       " 'aacharya',\n",
       " 'aachman',\n",
       " 'aachuthan',\n",
       " 'aadalalagan',\n",
       " 'aadalarasan',\n",
       " 'aadalazhagan',\n",
       " 'aadamya']"
      ]
     },
     "execution_count": 44,
     "metadata": {},
     "output_type": "execute_result"
    }
   ],
   "source": [
    "words[:20]"
   ]
  },
  {
   "cell_type": "code",
   "execution_count": 45,
   "id": "c034df74-97fc-4614-a2d4-ede780a03603",
   "metadata": {},
   "outputs": [
    {
     "data": {
      "text/plain": [
       "55691"
      ]
     },
     "execution_count": 45,
     "metadata": {},
     "output_type": "execute_result"
    }
   ],
   "source": [
    "len(words)"
   ]
  },
  {
   "cell_type": "code",
   "execution_count": 46,
   "id": "f7196b20-e67e-4bca-93f3-ca97698cbf8c",
   "metadata": {},
   "outputs": [
    {
     "data": {
      "text/plain": [
       "2"
      ]
     },
     "execution_count": 46,
     "metadata": {},
     "output_type": "execute_result"
    }
   ],
   "source": [
    "min(len(w) for w in words)"
   ]
  },
  {
   "cell_type": "code",
   "execution_count": 47,
   "id": "2e621fa9-d512-4034-b94b-0bceb489563c",
   "metadata": {},
   "outputs": [
    {
     "data": {
      "text/plain": [
       "24"
      ]
     },
     "execution_count": 47,
     "metadata": {},
     "output_type": "execute_result"
    }
   ],
   "source": [
    "max(len(w) for w in words)"
   ]
  },
  {
   "cell_type": "code",
   "execution_count": null,
   "id": "2d5cc403-af01-4a99-aa18-0797d67f5992",
   "metadata": {},
   "outputs": [],
   "source": []
  }
 ],
 "metadata": {
  "kernelspec": {
   "display_name": "Python 3 (ipykernel)",
   "language": "python",
   "name": "python3"
  },
  "language_info": {
   "codemirror_mode": {
    "name": "ipython",
    "version": 3
   },
   "file_extension": ".py",
   "mimetype": "text/x-python",
   "name": "python",
   "nbconvert_exporter": "python",
   "pygments_lexer": "ipython3",
   "version": "3.9.16"
  }
 },
 "nbformat": 4,
 "nbformat_minor": 5
}
